{
 "cells": [
  {
   "cell_type": "code",
   "execution_count": 2,
   "id": "2fab2c32",
   "metadata": {},
   "outputs": [],
   "source": [
    "import numpy as np\n",
    "import pandas as pd\n",
    "import matplotlib\n"
   ]
  },
  {
   "cell_type": "code",
   "execution_count": 3,
   "id": "dab5004e",
   "metadata": {},
   "outputs": [
    {
     "name": "stdout",
     "output_type": "stream",
     "text": [
      "Numpy: v2.3.2\n",
      "Pandas: v2.3.1\n",
      "MatPlotLib: v3.10.5\n"
     ]
    }
   ],
   "source": [
    "print(f\"Numpy: v{np.__version__}\")\n",
    "print(f\"Pandas: v{pd.__version__}\" )\n",
    "print(f\"MatPlotLib: v{matplotlib.__version__}\" )\n"
   ]
  },
  {
   "cell_type": "code",
   "execution_count": null,
   "id": "a1ddeba4",
   "metadata": {},
   "outputs": [],
   "source": [
    "# Sample dataset to work with\n",
    "X = [1, 2, 3, 4, 5, 6, 7, 8, 9, 10, 11, 12, 13, 14, 15]\n",
    "Y = [52, 54, 58, 62, 65, 70, 72, 75, 78, 82, 85, 88, 90, 93, 96]"
   ]
  },
  {
   "cell_type": "code",
   "execution_count": null,
   "id": "df0cf316",
   "metadata": {},
   "outputs": [],
   "source": []
  }
 ],
 "metadata": {
  "kernelspec": {
   "display_name": "univariate-linear-regression-from-scratch (3.12.9)",
   "language": "python",
   "name": "python3"
  },
  "language_info": {
   "codemirror_mode": {
    "name": "ipython",
    "version": 3
   },
   "file_extension": ".py",
   "mimetype": "text/x-python",
   "name": "python",
   "nbconvert_exporter": "python",
   "pygments_lexer": "ipython3",
   "version": "3.12.9"
  }
 },
 "nbformat": 4,
 "nbformat_minor": 5
}
